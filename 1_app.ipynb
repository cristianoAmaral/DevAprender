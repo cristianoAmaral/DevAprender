{
 "cells": [
  {
   "attachments": {},
   "cell_type": "markdown",
   "metadata": {},
   "source": [
    "### Capitulo 2 - Como receber e trabalhar com dados."
   ]
  },
  {
   "attachments": {},
   "cell_type": "markdown",
   "metadata": {},
   "source": [
    "#### 1 Variáveis"
   ]
  },
  {
   "cell_type": "code",
   "execution_count": null,
   "metadata": {},
   "outputs": [],
   "source": [
    "velocidade_internet = 10\n",
    "print(velocidade_internet)\n",
    "\n",
    "variavel_1 = 25.87\n",
    "variavel_2 = True\n",
    "variavel_3 = 'Bom dia!'\n",
    "variavel_4 = 15\n",
    "\n",
    "print(type(variavel_1))\n",
    "print(type(variavel_2))\n",
    "print(type(variavel_3))\n",
    "print(type(variavel_4))"
   ]
  },
  {
   "attachments": {},
   "cell_type": "markdown",
   "metadata": {},
   "source": [
    "#### 2 Duas maneiras de rodar código Python."
   ]
  },
  {
   "cell_type": "code",
   "execution_count": 2,
   "metadata": {},
   "outputs": [
    {
     "name": "stdout",
     "output_type": "stream",
     "text": [
      "<class 'float'>\n"
     ]
    }
   ],
   "source": [
    "variavel_1 = 25.87\n",
    "print(type(variavel_1))\n",
    "\n",
    "\n",
    "# Rodar o Python direto no terminal com o interpretador.\n",
    "# Rodar a partir de um terminal com o arquivo direto no terminal.\n",
    "\n",
    "\n"
   ]
  }
 ],
 "metadata": {
  "kernelspec": {
   "display_name": "Python 3",
   "language": "python",
   "name": "python3"
  },
  "language_info": {
   "codemirror_mode": {
    "name": "ipython",
    "version": 3
   },
   "file_extension": ".py",
   "mimetype": "text/x-python",
   "name": "python",
   "nbconvert_exporter": "python",
   "pygments_lexer": "ipython3",
   "version": "3.11.4"
  },
  "orig_nbformat": 4
 },
 "nbformat": 4,
 "nbformat_minor": 2
}
