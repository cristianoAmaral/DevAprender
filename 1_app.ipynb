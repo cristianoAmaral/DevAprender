{
 "cells": [
  {
   "attachments": {},
   "cell_type": "markdown",
   "metadata": {},
   "source": [
    "### Capitulo 2 - Como receber e trabalhar com dados."
   ]
  },
  {
   "attachments": {},
   "cell_type": "markdown",
   "metadata": {},
   "source": [
    "#### 1 Variáveis"
   ]
  },
  {
   "cell_type": "code",
   "execution_count": null,
   "metadata": {},
   "outputs": [],
   "source": [
    "velocidade_internet = 10\n",
    "print(velocidade_internet)\n",
    "\n",
    "variavel_1 = 25.87\n",
    "variavel_2 = True\n",
    "variavel_3 = 'Bom dia!'\n",
    "variavel_4 = 15\n",
    "\n",
    "print(type(variavel_1))\n",
    "print(type(variavel_2))\n",
    "print(type(variavel_3))\n",
    "print(type(variavel_4))"
   ]
  },
  {
   "attachments": {},
   "cell_type": "markdown",
   "metadata": {},
   "source": [
    "#### 2 Duas maneiras de rodar código Python."
   ]
  },
  {
   "cell_type": "code",
   "execution_count": 2,
   "metadata": {},
   "outputs": [
    {
     "name": "stdout",
     "output_type": "stream",
     "text": [
      "<class 'float'>\n"
     ]
    }
   ],
   "source": [
    "variavel_1 = 25.87\n",
    "print(type(variavel_1))\n",
    "\n",
    "\n",
    "# Rodar o Python direto no terminal com o interpretador.\n",
    "# Rodar a partir de um terminal com o arquivo direto no terminal.\n",
    "\n",
    "\n"
   ]
  },
  {
   "attachments": {},
   "cell_type": "markdown",
   "metadata": {},
   "source": [
    "#### 3 Como resolver qualquer erro com o Google ou ChatGpt"
   ]
  },
  {
   "cell_type": "code",
   "execution_count": null,
   "metadata": {},
   "outputs": [],
   "source": [
    "# Existem dois tipos de erros:\n",
    "#   - Erro Genérico\n",
    "    # 1 - Leia o erro \n",
    "    # 2 - Copie a msg e cole no google tradutor\n",
    "    # 3 - Tente entender o que fazer apartir da mensagem de erro\n",
    "nome =\"Amanda\"\n",
    "     # 123456\n",
    "print(nome[6])\n",
    "\n",
    "#   - Erro especifico ( Inclui erros e dados da sua aplicação)\n",
    "    # 1 - Leia o erro \n",
    "    # 2 - Copie a msg e cole no google tradutor\n",
    "    # 3 - Tente entender o que fazer apartir da mensagem de erro e retire a parte que envolve dado de sua aplicação."
   ]
  },
  {
   "attachments": {},
   "cell_type": "markdown",
   "metadata": {},
   "source": [
    "#### 4 Identação no Python"
   ]
  },
  {
   "cell_type": "code",
   "execution_count": 12,
   "metadata": {},
   "outputs": [
    {
     "name": "stdout",
     "output_type": "stream",
     "text": [
      "pensando\n",
      "Lembrei!\n",
      "10 é maior que 5\n",
      "Bem vindo\n"
     ]
    }
   ],
   "source": [
    "# Desafio de identação Python.\n",
    "\n",
    "import time\n",
    "   \n",
    "def PensarPor10Segundos():\n",
    "    print('Pensando')\n",
    "    time.sleep(10)\n",
    "    print('Lembrei!')\n",
    "\n",
    "PensarPor10Segundos()\n",
    "\n",
    "if 10 > 5:   \n",
    "    print('10 é maior que 5')\n",
    "\n",
    "class BemVindo():\n",
    "    def __init__(self):\n",
    "         print('Bem vindo')\n",
    "\n",
    "oi = BemVindo()\n",
    "\n",
    "\n"
   ]
  },
  {
   "attachments": {},
   "cell_type": "markdown",
   "metadata": {},
   "source": [
    "#### 5 - Strings"
   ]
  },
  {
   "cell_type": "code",
   "execution_count": null,
   "metadata": {},
   "outputs": [],
   "source": [
    "print(\"Codar todos os dias!\")\n",
    "print('Codar todos os dias!!!')\n",
    "print('''Estamos codando todos os dias \n",
    "E estou aprendendo muito!''')\n",
    "\n",
    "# Caracter de escape\n",
    "print('Olá meun nome é \\nJhonatan')\n",
    "print(\"Codar todos \\'os dias\")\n",
    "print('Arquivo localizado em \\\\C:driver\\\\arquivo1.txt')\n",
    "\n",
    "nome = 'Carol'\n",
    "print(len(nome))\n",
    "\n",
    "\n",
    "print('Vamos Codar!')\n",
    "print('Vamos \\'codar!\\'')\n",
    "print(\"Vamos \\n'codar'\")"
   ]
  },
  {
   "attachments": {},
   "cell_type": "markdown",
   "metadata": {},
   "source": [
    "#### 6 String Dinâmicos"
   ]
  },
  {
   "cell_type": "code",
   "execution_count": null,
   "metadata": {},
   "outputs": [],
   "source": [
    "# String dinâmicos\n",
    "\n",
    "nome = 'Rafael'\n",
    "email = 'rafael@gmail.com'\n",
    "\n",
    "print(f'Olá {nome}, você cadastrou o e-mail {email}')"
   ]
  }
 ],
 "metadata": {
  "kernelspec": {
   "display_name": "Python 3",
   "language": "python",
   "name": "python3"
  },
  "language_info": {
   "codemirror_mode": {
    "name": "ipython",
    "version": 3
   },
   "file_extension": ".py",
   "mimetype": "text/x-python",
   "name": "python",
   "nbconvert_exporter": "python",
   "pygments_lexer": "ipython3",
   "version": "3.11.4"
  },
  "orig_nbformat": 4
 },
 "nbformat": 4,
 "nbformat_minor": 2
}
